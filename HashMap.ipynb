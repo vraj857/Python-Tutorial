{
  "nbformat": 4,
  "nbformat_minor": 0,
  "metadata": {
    "colab": {
      "name": "HashMap.ipynb",
      "provenance": [],
      "collapsed_sections": []
    },
    "kernelspec": {
      "name": "python3",
      "display_name": "Python 3"
    },
    "language_info": {
      "name": "python"
    }
  },
  "cells": [
    {
      "cell_type": "markdown",
      "metadata": {
        "id": "0YZJRe4ZysDh"
      },
      "source": [
        "# **Hash map and Hash Table in Python**"
      ]
    },
    {
      "cell_type": "markdown",
      "metadata": {
        "id": "-iudMEPizHz8"
      },
      "source": [
        "**What is Hashmap or Hash Table?**\n",
        "\n",
        "> Hashmap or Hash table is type of Data Structure that maps **Keys** to their **Value** pairs.\n",
        "\n",
        "> It is Implement abstract array data type.\n",
        "\n",
        "\n",
        "\n",
        "\n"
      ]
    },
    {
      "cell_type": "markdown",
      "metadata": {
        "id": "7vBrXI_m0QY1"
      },
      "source": [
        "# **Creating Dictionaries**\n"
      ]
    },
    {
      "cell_type": "markdown",
      "metadata": {
        "id": "8yuQRbp70uIH"
      },
      "source": [
        "1. Using Curly Braces **`{}`**"
      ]
    },
    {
      "cell_type": "code",
      "metadata": {
        "colab": {
          "base_uri": "https://localhost:8080/"
        },
        "id": "kkXvYcg_0tUS",
        "outputId": "1189ed15-b2e1-4887-d3a8-a97ff677796e"
      },
      "source": [
        "my_dict = {'Rahul' : '001', 'Dave' : '002' , 'Adam' : '003'}\n",
        "print(my_dict)\n",
        "type(my_dict)"
      ],
      "execution_count": null,
      "outputs": [
        {
          "output_type": "stream",
          "text": [
            "{'Rahul': '001', 'Dave': '002', 'Adam': '003'}\n"
          ],
          "name": "stdout"
        },
        {
          "output_type": "execute_result",
          "data": {
            "text/plain": [
              "dict"
            ]
          },
          "metadata": {
            "tags": []
          },
          "execution_count": 42
        }
      ]
    },
    {
      "cell_type": "markdown",
      "metadata": {
        "id": "zbkqq8dk05YJ"
      },
      "source": [
        "2. Using **`dict()`** function"
      ]
    },
    {
      "cell_type": "code",
      "metadata": {
        "colab": {
          "base_uri": "https://localhost:8080/"
        },
        "id": "VBw8PZxO1lJF",
        "outputId": "8b8de8f3-a0a4-48e5-ed6e-0623b00290ea"
      },
      "source": [
        "#empty dictionary\n",
        "\n",
        "new_dict = dict()\n",
        "print(new_dict)\n",
        "type(new_dict)"
      ],
      "execution_count": null,
      "outputs": [
        {
          "output_type": "stream",
          "text": [
            "{}\n"
          ],
          "name": "stdout"
        },
        {
          "output_type": "execute_result",
          "data": {
            "text/plain": [
              "dict"
            ]
          },
          "metadata": {
            "tags": []
          },
          "execution_count": 43
        }
      ]
    },
    {
      "cell_type": "code",
      "metadata": {
        "colab": {
          "base_uri": "https://localhost:8080/"
        },
        "id": "5sVWtc172ANP",
        "outputId": "256feeca-5c7a-4f20-bccb-d03b77f95828"
      },
      "source": [
        "new_dict = dict(dave = '001' , Ava = '002')\n",
        "print(new_dict)\n",
        "type(new_dict)"
      ],
      "execution_count": null,
      "outputs": [
        {
          "output_type": "stream",
          "text": [
            "{'dave': '001', 'Ava': '002'}\n"
          ],
          "name": "stdout"
        },
        {
          "output_type": "execute_result",
          "data": {
            "text/plain": [
              "dict"
            ]
          },
          "metadata": {
            "tags": []
          },
          "execution_count": 44
        }
      ]
    },
    {
      "cell_type": "markdown",
      "metadata": {
        "id": "JTbmrggB2xRO"
      },
      "source": [
        "# **Nested Dictionaries**\n",
        "\n",
        "\n",
        ">Nested Dictionaries are  basically dictionaries that lies within other dictionaries \n",
        "\n"
      ]
    },
    {
      "cell_type": "code",
      "metadata": {
        "colab": {
          "base_uri": "https://localhost:8080/"
        },
        "id": "CFQ88XGu21cS",
        "outputId": "fa7d7f85-946a-47e4-910e-f16dcf63d69e"
      },
      "source": [
        "emp_details = {'Employee' :{ 'Dave' :{'id' : '001' , 'Salary' : '2000', 'Designation' : 'Team Lead'} ,\n",
        "                             'Ava':{'id' : '002' , 'Salary' : '4000', 'Designation' : 'Associate'}}}\n",
        "print(emp_details)"
      ],
      "execution_count": null,
      "outputs": [
        {
          "output_type": "stream",
          "text": [
            "{'Employee': {'Dave': {'id': '001', 'Salary': '2000', 'Designation': 'Team Lead'}, 'Ava': {'id': '002', 'Salary': '4000', 'Designation': 'Associate'}}}\n"
          ],
          "name": "stdout"
        }
      ]
    },
    {
      "cell_type": "markdown",
      "metadata": {
        "id": "skxBievJ4QR1"
      },
      "source": [
        "# **Performing Operation in Hash Tables**"
      ]
    },
    {
      "cell_type": "markdown",
      "metadata": {
        "id": "3ltZmc6F4QEr"
      },
      "source": [
        "\n",
        "\n",
        "#  1. Accessing Items\n",
        "\n"
      ]
    },
    {
      "cell_type": "code",
      "metadata": {
        "colab": {
          "base_uri": "https://localhost:8080/",
          "height": 35
        },
        "id": "zv8LWFsW4feq",
        "outputId": "285cf075-b1e4-4b4b-9ed0-4af11b902837"
      },
      "source": [
        "#using Keys\n",
        "my_dict['Rahul']"
      ],
      "execution_count": null,
      "outputs": [
        {
          "output_type": "execute_result",
          "data": {
            "application/vnd.google.colaboratory.intrinsic+json": {
              "type": "string"
            },
            "text/plain": [
              "'001'"
            ]
          },
          "metadata": {
            "tags": []
          },
          "execution_count": 46
        }
      ]
    },
    {
      "cell_type": "code",
      "metadata": {
        "colab": {
          "base_uri": "https://localhost:8080/"
        },
        "id": "nr55hqWH4tCz",
        "outputId": "3e78549a-a5e7-4ea2-890f-dacdd1a2caac"
      },
      "source": [
        "#using Keys() Function\n",
        "my_dict.keys()"
      ],
      "execution_count": null,
      "outputs": [
        {
          "output_type": "execute_result",
          "data": {
            "text/plain": [
              "dict_keys(['Rahul', 'Dave', 'Adam'])"
            ]
          },
          "metadata": {
            "tags": []
          },
          "execution_count": 47
        }
      ]
    },
    {
      "cell_type": "code",
      "metadata": {
        "colab": {
          "base_uri": "https://localhost:8080/"
        },
        "id": "qFtm0dz648Dg",
        "outputId": "e2452f46-63e9-4df0-d695-6c8d6999b67d"
      },
      "source": [
        "#using Values() Function\n",
        "my_dict.values()"
      ],
      "execution_count": null,
      "outputs": [
        {
          "output_type": "execute_result",
          "data": {
            "text/plain": [
              "dict_values(['001', '002', '003'])"
            ]
          },
          "metadata": {
            "tags": []
          },
          "execution_count": 48
        }
      ]
    },
    {
      "cell_type": "code",
      "metadata": {
        "colab": {
          "base_uri": "https://localhost:8080/",
          "height": 35
        },
        "id": "lS2Ao7A15BSc",
        "outputId": "89c13c4f-d6b9-4c18-925b-553fb8bd474c"
      },
      "source": [
        "#using Get('keys') -> Values \n",
        "my_dict.get('Rahul')"
      ],
      "execution_count": null,
      "outputs": [
        {
          "output_type": "execute_result",
          "data": {
            "application/vnd.google.colaboratory.intrinsic+json": {
              "type": "string"
            },
            "text/plain": [
              "'001'"
            ]
          },
          "metadata": {
            "tags": []
          },
          "execution_count": 49
        }
      ]
    },
    {
      "cell_type": "code",
      "metadata": {
        "colab": {
          "base_uri": "https://localhost:8080/"
        },
        "id": "ARWTANWf5TPs",
        "outputId": "19afd293-404e-477d-80b4-fc3444ee2f3d"
      },
      "source": [
        "#using For Loop\n",
        "for i in my_dict:\n",
        "  print(i)\n"
      ],
      "execution_count": null,
      "outputs": [
        {
          "output_type": "stream",
          "text": [
            "Rahul\n",
            "Dave\n",
            "Adam\n"
          ],
          "name": "stdout"
        }
      ]
    },
    {
      "cell_type": "code",
      "metadata": {
        "colab": {
          "base_uri": "https://localhost:8080/"
        },
        "id": "Q-lxko_i5YOK",
        "outputId": "b9c1ccbd-6166-43df-efc0-e90fe0443679"
      },
      "source": [
        "#print all keys\n",
        "for i in my_dict.keys():\n",
        "  print(i)"
      ],
      "execution_count": null,
      "outputs": [
        {
          "output_type": "stream",
          "text": [
            "Rahul\n",
            "Dave\n",
            "Adam\n"
          ],
          "name": "stdout"
        }
      ]
    },
    {
      "cell_type": "code",
      "metadata": {
        "colab": {
          "base_uri": "https://localhost:8080/"
        },
        "id": "p_HmIRv95wVa",
        "outputId": "7669e17a-009b-4d53-d468-16ec10aa3c01"
      },
      "source": [
        "#print all values\n",
        "for i in my_dict.values():\n",
        "  print(i)"
      ],
      "execution_count": null,
      "outputs": [
        {
          "output_type": "stream",
          "text": [
            "001\n",
            "002\n",
            "003\n"
          ],
          "name": "stdout"
        }
      ]
    },
    {
      "cell_type": "code",
      "metadata": {
        "colab": {
          "base_uri": "https://localhost:8080/"
        },
        "id": "PWsbB78L6XFh",
        "outputId": "1d5bdeae-74c2-42f8-d85b-3360018ef4af"
      },
      "source": [
        "#using Item Function (i,x) -> (Keys,Values) \n",
        "for i,x in my_dict.items():\n",
        "  print(i,x)"
      ],
      "execution_count": null,
      "outputs": [
        {
          "output_type": "stream",
          "text": [
            "Rahul 001\n",
            "Dave 002\n",
            "Adam 003\n"
          ],
          "name": "stdout"
        }
      ]
    },
    {
      "cell_type": "markdown",
      "metadata": {
        "id": "srP7SKp36vSV"
      },
      "source": [
        "\n",
        "\n",
        "#  2. Updating Items\n",
        "\n",
        "\n",
        "> Dictionaries are mutable data type and you can update them as and when  required.\n",
        "\n",
        "\n",
        "\n"
      ]
    },
    {
      "cell_type": "code",
      "metadata": {
        "colab": {
          "base_uri": "https://localhost:8080/"
        },
        "id": "1LAaYRyp6zf5",
        "outputId": "9f3e18e5-760b-4747-c8c8-ba59e19695f3"
      },
      "source": [
        "#updating the value\n",
        "my_dict['Rahul'] = '004'\n",
        "print(my_dict)"
      ],
      "execution_count": null,
      "outputs": [
        {
          "output_type": "stream",
          "text": [
            "{'Rahul': '004', 'Dave': '002', 'Adam': '003'}\n"
          ],
          "name": "stdout"
        }
      ]
    },
    {
      "cell_type": "code",
      "metadata": {
        "colab": {
          "base_uri": "https://localhost:8080/"
        },
        "id": "KOUiEKUK7m49",
        "outputId": "dc448936-e7e5-4bb2-c7a2-cc9672bae06f"
      },
      "source": [
        "#add new key->value pair\n",
        "my_dict['Rohan'] = '005'\n",
        "print(my_dict)"
      ],
      "execution_count": null,
      "outputs": [
        {
          "output_type": "stream",
          "text": [
            "{'Rahul': '004', 'Dave': '002', 'Adam': '003', 'Rohan': '005'}\n"
          ],
          "name": "stdout"
        }
      ]
    },
    {
      "cell_type": "markdown",
      "metadata": {
        "id": "cRIUPmCD8BgH"
      },
      "source": [
        "# 3.  Deleting Items"
      ]
    },
    {
      "cell_type": "code",
      "metadata": {
        "colab": {
          "base_uri": "https://localhost:8080/"
        },
        "id": "SsGpiBxN8BMh",
        "outputId": "5bf8f436-0127-4c81-9240-ba9369b41646"
      },
      "source": [
        "#using pop() function\n",
        "my_dict.pop('Adam')\n",
        "print(my_dict)"
      ],
      "execution_count": null,
      "outputs": [
        {
          "output_type": "stream",
          "text": [
            "{'Rahul': '004', 'Dave': '002', 'Rohan': '005'}\n"
          ],
          "name": "stdout"
        }
      ]
    },
    {
      "cell_type": "code",
      "metadata": {
        "colab": {
          "base_uri": "https://localhost:8080/"
        },
        "id": "uoC8zJDL8VjQ",
        "outputId": "0e316864-4e9f-4693-8f03-a9c980313596"
      },
      "source": [
        "#using popitem() function -> Remove Last item of dictionary\n",
        "my_dict.popitem()"
      ],
      "execution_count": null,
      "outputs": [
        {
          "output_type": "execute_result",
          "data": {
            "text/plain": [
              "('Rohan', '005')"
            ]
          },
          "metadata": {
            "tags": []
          },
          "execution_count": 57
        }
      ]
    },
    {
      "cell_type": "code",
      "metadata": {
        "colab": {
          "base_uri": "https://localhost:8080/"
        },
        "id": "YKYNiksA9FMM",
        "outputId": "989a84d2-990e-4931-c04b-903e4c694ca8"
      },
      "source": [
        "#using del \n",
        "del my_dict['Dave']\n",
        "print(my_dict)"
      ],
      "execution_count": null,
      "outputs": [
        {
          "output_type": "stream",
          "text": [
            "{'Rahul': '004'}\n"
          ],
          "name": "stdout"
        }
      ]
    },
    {
      "cell_type": "markdown",
      "metadata": {
        "id": "Sf_Z93hm9R3T"
      },
      "source": [
        "# Converting Dictionaries to DataFrame\n",
        "\n",
        "\n",
        "> DataFrame is 2-D Data structure  that consists columns of Various types. similar like python Dictionaries or you can convert dict to pandas Dataframe.\n",
        "\n"
      ]
    },
    {
      "cell_type": "code",
      "metadata": {
        "colab": {
          "base_uri": "https://localhost:8080/"
        },
        "id": "F3npO-6b9xFk",
        "outputId": "88675bca-f0be-4804-e962-4ddd11204737"
      },
      "source": [
        "import pandas as pd\n",
        "df = pd.DataFrame(emp_details['Employee'])\n",
        "print(df)"
      ],
      "execution_count": null,
      "outputs": [
        {
          "output_type": "stream",
          "text": [
            "                  Dave        Ava\n",
            "id                 001        002\n",
            "Salary            2000       4000\n",
            "Designation  Team Lead  Associate\n"
          ],
          "name": "stdout"
        }
      ]
    }
  ]
}