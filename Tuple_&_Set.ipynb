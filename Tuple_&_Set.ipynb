{
  "nbformat": 4,
  "nbformat_minor": 0,
  "metadata": {
    "colab": {
      "name": "Tuple & Set.ipynb",
      "provenance": [],
      "collapsed_sections": [],
      "authorship_tag": "ABX9TyNNhijnAqMK6EqT9Q7zZtsC",
      "include_colab_link": true
    },
    "kernelspec": {
      "name": "python3",
      "display_name": "Python 3"
    },
    "language_info": {
      "name": "python"
    }
  },
  "cells": [
    {
      "cell_type": "markdown",
      "metadata": {
        "id": "view-in-github",
        "colab_type": "text"
      },
      "source": [
        "<a href=\"https://colab.research.google.com/github/vraj857/Python-Tutorial/blob/main/Tuple_%26_Set.ipynb\" target=\"_parent\"><img src=\"https://colab.research.google.com/assets/colab-badge.svg\" alt=\"Open In Colab\"/></a>"
      ]
    },
    {
      "cell_type": "markdown",
      "metadata": {
        "id": "cFYbjdwESuPN"
      },
      "source": [
        "**Tuple**\n",
        "\n",
        "> tuples are **immutable(unchanged)** ordered sequences of elements.\n",
        "\n",
        ">  The difference is that the elements of a tuple **need not be characters**.\n",
        "\n",
        ">The individual elements can be of any type, and need not be of the same type as each other.\n",
        "\n",
        ">  It is not possible to assign to the individual items of a tuple, however it is possible to create tuples which **contain mutable objects**, such as lists\n",
        "\n",
        "\n",
        "> Object state cannot be modified. Once the object is **created, we cannot add, remove or update elements, append & extend**.\n",
        "\n",
        "\n",
        "> **String, Integer, Tuples, Ranges, Set & Frozenset** are some of the immutable object types in python\n",
        "\n",
        "> **Tuples are faster than lists**. If you're defining a constant set of values and all you're ever going to do with it is iterate through it, use a tuple instead of a list.\n",
        "\n",
        "> It makes your code safer if you “write-protect” data that does not need to be changed. Using a tuple instead of a list is like having an implied assert statement that this data is constant, and that special thought (and a specific function) is required to override that.\n",
        "\n",
        "> Some tuples can be used as dictionary keys (specifically, tuples that contain immutable values like strings, numbers, and other tuples). Lists can never be used as dictionary keys, because **lists are not immutable**.\n",
        "\n",
        "\n",
        "\n",
        "> If you think of a tuple just as an immutable list, the quantity and the order of the items\n",
        "may or may not be important, depending on the context. But **when using a tuple as a collection of fields the number of items is often fixed and their order is always vital.**\n",
        "\n",
        "\n",
        "\n",
        "\n",
        "\n",
        "\n",
        "\n",
        "\n",
        "\n",
        "\n",
        "\n",
        "\n",
        "\n",
        "\n",
        "\n",
        "\n"
      ]
    },
    {
      "cell_type": "code",
      "metadata": {
        "colab": {
          "base_uri": "https://localhost:8080/"
        },
        "id": "Bb2AKrB6FCsp",
        "outputId": "cf3fb64c-b170-4c0f-bf2f-3b3a4724b42b"
      },
      "source": [
        "# tuple with empty elements\n",
        "t1 = ()\n",
        "print(t1)"
      ],
      "execution_count": null,
      "outputs": [
        {
          "output_type": "stream",
          "text": [
            "()\n"
          ],
          "name": "stdout"
        }
      ]
    },
    {
      "cell_type": "code",
      "metadata": {
        "colab": {
          "base_uri": "https://localhost:8080/"
        },
        "id": "KWVZlmdMUlvM",
        "outputId": "763ca4aa-43b3-45ff-aac1-ea83ed730936"
      },
      "source": [
        "#a tuple with one item is constructed by following a value with a comma (it is not sufficient to enclose a single value in parentheses)\n",
        "singleton = 'hello',\n",
        "print(singleton)\n",
        "\n",
        "#Literals of type tuple are written by enclosing a comma-separated list of elements within parentheses\n",
        "t2 = (1, 'two', 3)\n",
        "print(t2)"
      ],
      "execution_count": null,
      "outputs": [
        {
          "output_type": "stream",
          "text": [
            "('hello',)\n",
            "(1, 'two', 3)\n"
          ],
          "name": "stdout"
        }
      ]
    },
    {
      "cell_type": "code",
      "metadata": {
        "colab": {
          "base_uri": "https://localhost:8080/"
        },
        "id": "UygeT52lWCUL",
        "outputId": "d3215359-8676-46e3-8f93-075c7fd1f4dc"
      },
      "source": [
        "#Like strings, tuples can be concatenated, indexed, and sliced\n",
        "print(\"Concatenated : \",t2 + singleton)\n",
        "print(\"indexed : \", (t2 + singleton)[1])\n",
        "print(\"sliced : \", (t2 + singleton)[1:3])\n"
      ],
      "execution_count": null,
      "outputs": [
        {
          "output_type": "stream",
          "text": [
            "Concatenated :  (1, 'two', 3, 'hello')\n",
            "indexed :  two\n",
            "sliced :  ('two', 3)\n"
          ],
          "name": "stdout"
        }
      ]
    },
    {
      "cell_type": "code",
      "metadata": {
        "colab": {
          "base_uri": "https://localhost:8080/"
        },
        "id": "zqE8o_jB93_X",
        "outputId": "1e2d2a07-5435-4bc0-cd4e-9b1b2856f636"
      },
      "source": [
        "# tuple to list conversion\n",
        "my_list = list(t2)\n",
        "print(my_list)\n",
        "\n",
        "#tuple to dictionary\n",
        "t4 = ((1,'hellow'),(2,'word'))\n",
        "my_dict = dict(t4)\n",
        "print(my_dict)"
      ],
      "execution_count": null,
      "outputs": [
        {
          "output_type": "stream",
          "text": [
            "[1, 'two', 3]\n",
            "{1: 'hellow', 2: 'word'}\n"
          ],
          "name": "stdout"
        }
      ]
    },
    {
      "cell_type": "markdown",
      "metadata": {
        "id": "uD0WrugPh8yX"
      },
      "source": [
        "**Tuple Unpacking/packing**\n",
        "\n",
        "\n",
        "> When we create a tuple, we normally assign values to it. **This is called \"packing\" a tuple.**\n",
        "\n",
        "\n",
        "> we are also allowed to extract the values back into variables. **This is called \"unpacking\"**\n",
        "\n",
        "\n",
        ">  The number of variables must match the number of values in the tuple, if not, you must use an asterisk (*) to collect the remaining values as a list.\n",
        "\n",
        "\n",
        "\n",
        "\n",
        "\n"
      ]
    },
    {
      "cell_type": "code",
      "metadata": {
        "colab": {
          "base_uri": "https://localhost:8080/"
        },
        "id": "Wb0jyq7O-C5D",
        "outputId": "5462499d-2d76-4151-e8c8-497e919d12cf"
      },
      "source": [
        "#tuples being used as records. Note that in every expression below,\n",
        "#sorting the tuple would destroy the information because the meaning of each data item\n",
        "#is given by its position in the tuple.\n",
        "\n",
        "city, year, pop, chg, area = ('Tokyo', 2003, 32450, 0.66, 8014) # unpacking tuple\n",
        "print(city, year, pop, chg, area)\n",
        "\n",
        "#The for loop knows how to retrieve the items of a tuple separately — this is\n",
        "#called “unpacking”.\n",
        "\n",
        "traveler_ids = [('USA', '31195855'), ('BRA', 'CE342567'),('ESP', 'XDA205856')]\n",
        "for passport in sorted(traveler_ids):\n",
        "  print('%s/%s' % passport)"
      ],
      "execution_count": null,
      "outputs": [
        {
          "output_type": "stream",
          "text": [
            "Tokyo 2003 32450 0.66 8014\n",
            "BRA/CE342567\n",
            "ESP/XDA205856\n",
            "USA/31195855\n"
          ],
          "name": "stdout"
        }
      ]
    },
    {
      "cell_type": "markdown",
      "metadata": {
        "id": "uz4_DEleX44x"
      },
      "source": [
        "## **Set**\n",
        "\n",
        "\n",
        "> A set is a collection of unique objects. A basic use case is removing duplication & unorderd and Unindexed.\n",
        "\n",
        "\n",
        "> **Set it self mmutable** but **elements must be immutabl**e.\n",
        "\n",
        "\n",
        "\n",
        "\n",
        "> Smart use of set operations can reduce both the **line count** and the **run time of Python programs**, at the same time making code easier to read and reason about — by removing loops and lots of conditional logic.\n",
        "\n",
        "\n",
        "> NOTE : to create an empty set, use the constructor without an\n",
        "argument: **set()**. If you write `{}`, you’re creating an **empty dict** —\n",
        "this hasn’t changed.\n",
        "\n",
        "\n",
        "> the set types implement the essential set operations as infix operators, so, given two sets a and b, `a | b` returns their **union**, `a & b` computes the **intersection**, and `a - b` **the difference**.\n",
        "\n",
        "\n",
        "\n",
        "\n",
        "\n",
        "\n",
        "\n",
        "\n"
      ]
    },
    {
      "cell_type": "code",
      "metadata": {
        "colab": {
          "base_uri": "https://localhost:8080/"
        },
        "id": "ze1yvBiefCpd",
        "outputId": "138dc9c4-6c78-4480-fdc6-073fd665430a"
      },
      "source": [
        "# basic set syntax\n",
        "Cset = {'Hello','Word'}\n",
        "print(Cset, type(Cset))\n"
      ],
      "execution_count": null,
      "outputs": [
        {
          "output_type": "stream",
          "text": [
            "{'Hello', 'Word'} <class 'set'>\n"
          ],
          "name": "stdout"
        }
      ]
    },
    {
      "cell_type": "code",
      "metadata": {
        "colab": {
          "base_uri": "https://localhost:8080/"
        },
        "id": "w065kyTaib9r",
        "outputId": "b78856c9-0d9e-45a1-8135-562119fb7a5a"
      },
      "source": [
        "#Calling set constructor\n",
        "Cset1 = set({'1'})\n",
        "print(Cset1,type(Cset1))"
      ],
      "execution_count": null,
      "outputs": [
        {
          "output_type": "stream",
          "text": [
            "{'1'} <class 'set'>\n"
          ],
          "name": "stdout"
        }
      ]
    },
    {
      "cell_type": "code",
      "metadata": {
        "id": "M8Vh_X9kEACW"
      },
      "source": [
        ""
      ],
      "execution_count": null,
      "outputs": []
    },
    {
      "cell_type": "code",
      "metadata": {
        "colab": {
          "base_uri": "https://localhost:8080/"
        },
        "id": "vzIr8XQPzXZF",
        "outputId": "195740b4-c80c-4e51-ac5d-2d04951ad8de"
      },
      "source": [
        "#add element  into the set\n",
        "Cset1.add('2')\n",
        "print(Cset1)\n",
        "\n",
        "#remove element into the set\n",
        "Cset1.remove('2')\n",
        "print(Cset1)\n",
        "\n",
        "#updates the current set, by adding items from another set (or any other iterable).\n",
        "Cset1.update(Cset)\n",
        "print(Cset1)"
      ],
      "execution_count": null,
      "outputs": [
        {
          "output_type": "stream",
          "text": [
            "{'Hello', 'Word', '2', '1'}\n",
            "{'Hello', 'Word', '1'}\n",
            "{'Hello', 'Word', '1'}\n"
          ],
          "name": "stdout"
        }
      ]
    },
    {
      "cell_type": "markdown",
      "metadata": {
        "id": "u3Tu87YJMZhU"
      },
      "source": [
        "# **namedtuple**\n",
        "\n",
        "\n",
        "> normal  Tuples do double-duty: **they can be used as immutable lists** and also **as records with no field names. sometimes it is desirable to name the fields. That is why the  namedtuple function was invented**. \n",
        "so inshort  we create tuple with callable name.\n",
        "\n",
        "\n",
        ">  You can access the values in a given named tuple using the dot notation and the field names."
      ]
    },
    {
      "cell_type": "code",
      "metadata": {
        "colab": {
          "base_uri": "https://localhost:8080/"
        },
        "id": "H372RSk_PglC",
        "outputId": "6d6d435f-7f45-42a5-9ea2-8dfafcd38711"
      },
      "source": [
        "from collections import namedtuple\n",
        "\n",
        "#Two parameters are required to create a named tuple: a class name and a list of\n",
        "#field names, which can be given as an iterable of strings or as a single spacede limited string.\n",
        "City = namedtuple('City', 'name country population coordinates')\n",
        "\n",
        "#Data must be passed as positional arguments to the constructor\n",
        "tokyo = City('Tokyo', 'JP', 36.933, (35.689722, 139.691667))\n",
        "\n",
        "#You can access the fields by name or position.\n",
        "print(tokyo.country)\n",
        "print(tokyo.coordinates)\n",
        "print(tokyo[2])"
      ],
      "execution_count": null,
      "outputs": [
        {
          "output_type": "stream",
          "text": [
            "JP\n",
            "(35.689722, 139.691667)\n",
            "36.933\n"
          ],
          "name": "stdout"
        }
      ]
    },
    {
      "cell_type": "markdown",
      "metadata": {
        "id": "z_X72MONQ2MY"
      },
      "source": [
        "**named tuple type has a few attributes in addition to those inherited from tuple**.\n",
        "\n",
        "1. `_fields` :  it is a tuple with the field names of the class.\n",
        "2. `_make()` : `_make()` lets you instantiate a named tuple from an iterable\n",
        "3. `_asdict()` : returns a `collections.OrderedDict` built from the named tuple\n",
        "instance. That can be used to produce a nice display data."
      ]
    },
    {
      "cell_type": "code",
      "metadata": {
        "colab": {
          "base_uri": "https://localhost:8080/"
        },
        "id": "02phR0aQSMv3",
        "outputId": "5b14e79a-5314-4b4e-fcb6-89cc8e306c8b"
      },
      "source": [
        "City._fields"
      ],
      "execution_count": null,
      "outputs": [
        {
          "output_type": "execute_result",
          "data": {
            "text/plain": [
              "('name', 'country', 'population', 'coordinates')"
            ]
          },
          "metadata": {},
          "execution_count": 10
        }
      ]
    },
    {
      "cell_type": "code",
      "metadata": {
        "colab": {
          "base_uri": "https://localhost:8080/"
        },
        "id": "RZAIuiE3R92D",
        "outputId": "05dfc8c0-042f-4542-88a3-f916372ba58c"
      },
      "source": [
        "LatLong = namedtuple('LatLong', 'lat long')\n",
        "delhi_data = ('Delhi NCR', 'IN', 21.935, LatLong(28.613889, 77.208889))\n",
        "delhi = City._make(delhi_data)\n",
        "delhi"
      ],
      "execution_count": null,
      "outputs": [
        {
          "output_type": "execute_result",
          "data": {
            "text/plain": [
              "City(name='Delhi NCR', country='IN', population=21.935, coordinates=LatLong(lat=28.613889, long=77.208889))"
            ]
          },
          "metadata": {},
          "execution_count": 12
        }
      ]
    },
    {
      "cell_type": "code",
      "metadata": {
        "colab": {
          "base_uri": "https://localhost:8080/"
        },
        "id": "ZjjR28n_SbtK",
        "outputId": "5b8d29a8-fbc6-4966-f46e-d70fbdb0d1e8"
      },
      "source": [
        "delhi._asdict()\n",
        "for key, value in delhi._asdict().items():\n",
        "  print(key + ':', value)"
      ],
      "execution_count": null,
      "outputs": [
        {
          "output_type": "stream",
          "text": [
            "name: Delhi NCR\n",
            "country: IN\n",
            "population: 21.935\n",
            "coordinates: LatLong(lat=28.613889, long=77.208889)\n"
          ],
          "name": "stdout"
        }
      ]
    }
  ]
}